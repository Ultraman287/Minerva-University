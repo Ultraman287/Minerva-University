{
 "cells": [
  {
   "cell_type": "code",
   "execution_count": 2,
   "metadata": {},
   "outputs": [],
   "source": [
    "class Graph:\n",
    "    def __init__(self, n):\n",
    "        self.adjacency_matrix = [[] for _ in range(n)]\n",
    "\n",
    "\n",
    "    def add_directed_edge(self, from_node, to_node):\n",
    "        \"\"\" \n",
    "        Create a directed edge between the starting node and ending node value\n",
    "        Parameters\n",
    "        ---------- \n",
    "            from_node: int\n",
    "                the starting node of an edge\n",
    "            to_node: int\n",
    "                the ending node of an edge\n",
    "        Returns\n",
    "        ----------\n",
    "            None\n",
    "        \"\"\"\n",
    "        self.adjacency_matrix[from_node].append(to_node)\n",
    "\n",
    "        return None\n",
    "\n",
    "    def add_undirected_edge(self, node1, node2):\n",
    "        \"\"\" \n",
    "        Create an undirected edge between the starting node and ending node value\n",
    "        Parameters\n",
    "        ----------\n",
    "            node1: int\n",
    "                the first node\n",
    "            node2: int\n",
    "                the second node \n",
    "        Returns\n",
    "        ----------\n",
    "            None\n",
    "        \"\"\"\n",
    "        self.adjacency_matrix[node1].append(node2)\n",
    "        self.adjacency_matrix[node2].append(node1)\n",
    "        return None\n",
    "\n",
    "cityGraph = Graph(10)\n",
    "# adding directed edges (unique direction)\n",
    "cityGraph.add_directed_edge(0, 2)\n",
    "cityGraph.add_directed_edge(3, 5)\n",
    "cityGraph.add_directed_edge(2, 8)\n",
    "cityGraph.add_directed_edge(1, 6)\n",
    "cityGraph.add_directed_edge(7, 9)\n",
    "cityGraph.add_directed_edge(8, 1)\n",
    "\n",
    "# adding undirected edges (double direction)\n",
    "cityGraph.add_undirected_edge(1, 2)\n",
    "cityGraph.add_undirected_edge(4, 6)\n",
    "cityGraph.add_undirected_edge(3, 4)\n",
    "cityGraph.add_undirected_edge(1, 9)\n",
    "\n",
    "\n",
    "\n",
    "assert (cityGraph.adjacency_matrix == [[2], [6, 2, 9], [8, 1], [5, 4], [6, 3], [], [4], [9], [1], [1]])"
   ]
  },
  {
   "cell_type": "code",
   "execution_count": null,
   "metadata": {},
   "outputs": [],
   "source": []
  },
  {
   "cell_type": "code",
   "execution_count": null,
   "metadata": {},
   "outputs": [],
   "source": []
  }
 ],
 "metadata": {
  "kernelspec": {
   "display_name": "Python 3",
   "language": "python",
   "name": "python3"
  },
  "language_info": {
   "codemirror_mode": {
    "name": "ipython",
    "version": 3
   },
   "file_extension": ".py",
   "mimetype": "text/x-python",
   "name": "python",
   "nbconvert_exporter": "python",
   "pygments_lexer": "ipython3",
   "version": "3.7.7"
  }
 },
 "nbformat": 4,
 "nbformat_minor": 4
}
