{
 "cells": [
  {
   "cell_type": "code",
   "execution_count": 1,
   "metadata": {},
   "outputs": [],
   "source": [
    "class Activity:\n",
    "    def __init__(self, name, start, finish):\n",
    "        self.name = name\n",
    "        self.start = start\n",
    "        self.finish = finish\n",
    "    \n",
    "def greedy_activity_selector(activity_list):\n",
    "    \"\"\"\n",
    "    Implements an iterative greedy algorithm to solve the activity-selection problem (making use of NO recursive calls). \n",
    "    See GREEDY-ACTIVITY-SELECTOR in Cormen et al., p.421\n",
    "    -----------\n",
    "    Parameters:\n",
    "    - activity_list: list of activities, instances of Activity, already sorted by finish times\n",
    "    Returns:\n",
    "    - out_list: the longest list possible of mutually compatible activities.\n",
    "    \"\"\"\n",
    "    n = len(activity_list)\n",
    "    A = [activity_list[0]]\n",
    "    k = 0\n",
    "    for i in range(1,n):\n",
    "        if activity_list[i].start >= activity_list[k].finish:\n",
    "            A.append(activity_list[i])\n",
    "            k = i\n",
    "    return A"
   ]
  },
  {
   "cell_type": "code",
   "execution_count": 12,
   "metadata": {},
   "outputs": [],
   "source": [
    "def recursive_activity_selector(activity_list, k, n):\n",
    "    \"\"\"\n",
    "    Implements a recursive greedy algorithm to solve the activity-selection problem. \n",
    "    See RECURSIVE-ACTIVITY-SELECTOR in Cormen et al., p.419. \n",
    "    Note that in Cormen et al., the call that solves the entire problem is the call with k=0. Because of the 0-indexing scheme in Python, the call that solves \n",
    "    the entire problem in your coding solution is with k=-1 (i.e., recursive_activity_selector(activity_list, -1, len(activity_list)))\n",
    "    ---------\n",
    "    Parameters:\n",
    "    - activity_list: list of activities, instances of Activity, already sorted by finish times\n",
    "    - k: int, defines the subproblem S_k it is to solve (see Cormen et al.) for \n",
    "    the definition of the subproblem S_k\n",
    "    - n: int, the size n of the original problem\n",
    "    \n",
    "    Returns:\n",
    "    - out_list: the longest list possible of mutually compatible activities. \n",
    "    \"\"\"\n",
    "    m = k + 1\n",
    "    while m <= n and activity_list[m].start < activity_list[k].finish:\n",
    "        m = m + 1\n",
    "    if m <= n:\n",
    "        return recursive_activity_selector(activity_list,m,n).append([activity_list[m]])\n",
    "    else:                            \n",
    "        return []"
   ]
  },
  {
   "cell_type": "code",
   "execution_count": 14,
   "metadata": {},
   "outputs": [
    {
     "data": {
      "image/png": "[encoded data removed]",
      "text/plain": [
       "<Figure size 432x288 with 1 Axes>"
      ]
     },
     "metadata": {
      "needs_background": "light"
     },
     "output_type": "display_data"
    }
   ],
   "source": [
    "import random\n",
    "import matplotlib.pyplot as plt\n",
    "import timeit\n",
    "\n",
    "def activity_list_gen(n):\n",
    "    finish_times = random.sample(range(n*3), n)\n",
    "    finish_times.sort()\n",
    "    \n",
    "    start_times = []\n",
    "    for ftime in finish_times:\n",
    "        offset = random.randint(1,5)\n",
    "        start_times.append(max(ftime-offset, 0))\n",
    "    \n",
    "    out_list = []\n",
    "    for i in range(n):\n",
    "        out_list.append(Activity(str(i), start_times[i], finish_times[i]))\n",
    "    \n",
    "    return out_list\n",
    "\n",
    "x_values = list(range(1,1000,10))\n",
    "\n",
    "y_values_recur = []\n",
    "\n",
    "for i in range(1,1000,10):\n",
    "    big_times = []\n",
    "    for j in range(100):\n",
    "        a_l = activity_list_gen(i)\n",
    "        start = timeit.default_timer()\n",
    "        recursive_activity_selector(a_l, -1, len(a_l)-1)\n",
    "        stop = timeit.default_timer()\n",
    "        big_times.append(stop-start)\n",
    "    y_values_recur.append(sum(big_times)/len(big_times))\n",
    "    \n",
    "y_values_iter = []\n",
    "\n",
    "for i in range(1,1000,10):\n",
    "    big_times = []\n",
    "    for j in range(100):\n",
    "        a_l = activity_list_gen(i)\n",
    "        start = timeit.default_timer()\n",
    "        greedy_activity_selector(a_l)\n",
    "        stop = timeit.default_timer()\n",
    "        big_times.append(stop-start)\n",
    "    y_values_iter.append(sum(big_times)/len(big_times))\n",
    "    \n",
    "plt.plot(x_values,y_values_iter, color = 'red', label = 'Iterative')\n",
    "plt.plot(x_values,y_values_recur, color = 'blue', label = 'Recursive')\n",
    "plt.legend()\n",
    "plt.show()"
   ]
  },
  {
   "cell_type": "code",
   "execution_count": null,
   "metadata": {},
   "outputs": [],
   "source": []
  }
 ],
 "metadata": {
  "kernelspec": {
   "display_name": "Python 3",
   "language": "python",
   "name": "python3"
  },
  "language_info": {
   "codemirror_mode": {
    "name": "ipython",
    "version": 3
   },
   "file_extension": ".py",
   "mimetype": "text/x-python",
   "name": "python",
   "nbconvert_exporter": "python",
   "pygments_lexer": "ipython3",
   "version": "3.7.7"
  }
 },
 "nbformat": 4,
 "nbformat_minor": 4
}
