{
 "cells": [
  {
   "cell_type": "code",
   "execution_count": 57,
   "metadata": {},
   "outputs": [],
   "source": [
    "import heapq\n",
    "class Node(object):\n",
    "    \"\"\"A node in a binary tree that represents a prefix code.\"\"\"\n",
    "    def __init__(self, freq, symb, parent = None, lchild = None, rchild = None):\n",
    "\n",
    "        self.freq = freq\n",
    "        self.symb = symb\n",
    "        self.parent = parent\n",
    "        self.lchild = lchild\n",
    "        self.rchild = rchild\n",
    "    \n",
    "    def __lt__(self, other):\n",
    "\n",
    "        return self.freq < other.freq\n",
    "    \n",
    "def read_encoding(node):\n",
    "\n",
    "    codeword = ''\n",
    "    while node.parent:\n",
    "        if node == node.parent.lchild:\n",
    "            codeword = '0' + codeword \n",
    "        else:\n",
    "            codeword =  '1' + codeword\n",
    "        node = node.parent\n",
    "    return codeword\n",
    "\n",
    "\n",
    "def encode(symb2freq_dict):\n",
    "\n",
    "    n = len(symb2freq_dict)\n",
    "    # define an object that will become a priority queue\n",
    "    Q = []\n",
    "\n",
    "    ### block of code 1 creates the priority queue to hold the symbols and frequencies\n",
    "    for i in symb2freq_dict.keys():\n",
    "        current_node = Node(symb2freq_dict[i],i)\n",
    "        heapq.heappush(Q, current_node)\n",
    "    ### block of code 2 uses the priority queue to build the binary tree bottom-up\n",
    "    for i in range(n-1):\n",
    "        z = Node('z',0)\n",
    "        z.lchild = heapq.heappop(Q)\n",
    "        z.rchild = heapq.heappop(Q)\n",
    "        z.freq = z.lchild.freq + z.rchild.freq\n",
    "        z.lchild.parent = z\n",
    "        z.rchild.parent = z\n",
    "        heapq.heappush(Q,z)\n",
    "    encoded_dictionary = {}\n",
    "    ### block of code 3 runs through every node in the tree and stores all the keys from symb2freq and corresponding (encoded) codewords in the encoded_dictionary\n",
    "    queue = [Q[0]]\n",
    "    result = []\n",
    "    while queue:\n",
    "        l = queue.pop(0)\n",
    "        result.append(l)\n",
    "\n",
    "        if l.lchild != None:\n",
    "            queue.append(l.lchild)\n",
    "        if l.rchild!= None:\n",
    "            queue.append(l.rchild)\n",
    "    for i in result:\n",
    "        encoded_dictionary[i.symb] = read_encoding(i)\n",
    "    return encoded_dictionary"
   ]
  },
  {
   "cell_type": "code",
   "execution_count": 58,
   "metadata": {},
   "outputs": [],
   "source": [
    "def fib(n):\n",
    "    dictionary = {}\n",
    "    if n >= 1:\n",
    "        dictionary['f1'] = 1\n",
    "    if n >= 2:\n",
    "        dictionary['f2'] = 1\n",
    "    if n >= 3:\n",
    "        for i in range(3,n+1):\n",
    "            dictionary[f'f{i}'] = dictionary[f'f{i-1}'] + dictionary[f'f{i-2}']\n",
    "    return dictionary\n",
    "\n",
    "fib_dict = fib(30)"
   ]
  },
  {
   "cell_type": "code",
   "execution_count": 59,
   "metadata": {
    "scrolled": false
   },
   "outputs": [
    {
     "data": {
      "text/plain": [
       "{0: '1111111111111111111111111111',\n",
       " 'f30': '0',\n",
       " 'f29': '10',\n",
       " 'f28': '110',\n",
       " 'f27': '1110',\n",
       " 'f26': '11110',\n",
       " 'f25': '111110',\n",
       " 'f24': '1111110',\n",
       " 'f23': '11111110',\n",
       " 'f22': '111111110',\n",
       " 'f21': '1111111110',\n",
       " 'f20': '11111111110',\n",
       " 'f19': '111111111110',\n",
       " 'f18': '1111111111110',\n",
       " 'f17': '11111111111110',\n",
       " 'f16': '111111111111110',\n",
       " 'f15': '1111111111111110',\n",
       " 'f14': '11111111111111110',\n",
       " 'f13': '111111111111111110',\n",
       " 'f12': '1111111111111111110',\n",
       " 'f11': '11111111111111111110',\n",
       " 'f10': '111111111111111111110',\n",
       " 'f9': '1111111111111111111110',\n",
       " 'f8': '11111111111111111111110',\n",
       " 'f7': '111111111111111111111110',\n",
       " 'f6': '1111111111111111111111110',\n",
       " 'f5': '11111111111111111111111110',\n",
       " 'f4': '111111111111111111111111110',\n",
       " 'f3': '1111111111111111111111111110',\n",
       " 'f1': '11111111111111111111111111110',\n",
       " 'f2': '11111111111111111111111111111'}"
      ]
     },
     "execution_count": 59,
     "metadata": {},
     "output_type": "execute_result"
    }
   ],
   "source": [
    "encode(fib_dict)"
   ]
  },
  {
   "cell_type": "code",
   "execution_count": null,
   "metadata": {},
   "outputs": [],
   "source": []
  },
  {
   "cell_type": "code",
   "execution_count": null,
   "metadata": {},
   "outputs": [],
   "source": []
  }
 ],
 "metadata": {
  "kernelspec": {
   "display_name": "Python 3",
   "language": "python",
   "name": "python3"
  },
  "language_info": {
   "codemirror_mode": {
    "name": "ipython",
    "version": 3
   },
   "file_extension": ".py",
   "mimetype": "text/x-python",
   "name": "python",
   "nbconvert_exporter": "python",
   "pygments_lexer": "ipython3",
   "version": "3.8.5"
  }
 },
 "nbformat": 4,
 "nbformat_minor": 4
}
