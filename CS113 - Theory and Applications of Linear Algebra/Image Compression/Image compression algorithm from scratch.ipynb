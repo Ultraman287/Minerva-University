{
 "cells": [
  {
   "cell_type": "code",
   "execution_count": null,
   "metadata": {},
   "outputs": [],
   "source": [
    "v1 = vector([1,1,1,1,1,1,1,1])\n",
    "v2 = vector([1,1,1,1,-1,-1,-1,-1])\n",
    "v3 = vector([1,1,-1,-1,0,0,0,0])\n",
    "v4 = vector([0,0,0,0,1,1,-1,-1])\n",
    "v5 = vector([1,-1,0,0,0,0,0,0])\n",
    "v6 = vector([0,0,1,-1,0,0,0,0])\n",
    "v7 = vector([0,0,0,0,1,-1,0,0])\n",
    "v8 = vector([0,0,0,0,0,0,1,-1])\n",
    "\n",
    "A = matrix([v1,v2,v3,v4,v5,v6,v7,v8]).transpose()\n",
    "#Initiating the matrix"
   ]
  },
  {
   "cell_type": "code",
   "execution_count": null,
   "metadata": {},
   "outputs": [],
   "source": [
    "A.rref()"
   ]
  },
  {
   "cell_type": "code",
   "execution_count": null,
   "metadata": {},
   "outputs": [],
   "source": [
    "v = vector([54,198,43,168,208,117,8,181])\n",
    "\n",
    "va = A.inverse()*v\n",
    "\n",
    "Aaug = A.augment(v,subdivide = True)\n",
    "\n",
    "Aaug.rref().column(-1)"
   ]
  },
  {
   "cell_type": "code",
   "execution_count": null,
   "metadata": {},
   "outputs": [],
   "source": [
    "from sage.plot.matrix_plot import MatrixPlot"
   ]
  },
  {
   "cell_type": "code",
   "execution_count": null,
   "metadata": {},
   "outputs": [],
   "source": [
    "def threshold_vectorizer(threshold, vectr):\n",
    "    dummy = vector([i for i in vectr])\n",
    "    for a in range(len(dummy)):\n",
    "        if abs(dummy[a]) < threshold:\n",
    "            dummy[a] = 0\n",
    "    return dummy"
   ]
  },
  {
   "cell_type": "code",
   "execution_count": null,
   "metadata": {},
   "outputs": [],
   "source": [
    "v1 = threshold_vectorizer(10, va)\n",
    "v2 = threshold_vectorizer(50, va)\n",
    "v3 = threshold_vectorizer(100, va)\n",
    "\n",
    "\n",
    "threshold_vectors = [va, v1,v2,v3]\n",
    "v1, v2, v3\n",
    "\n",
    "threshold_vectors_in_basis = [A*i for i in threshold_vectors]\n",
    "\n",
    "for vec in range(len(threshold_vectors_in_basis)):\n",
    "    print(f\"\"\"\n",
    "    The corresponding vector in the new basis  is\n",
    "    {threshold_vectors[vec].n(digits = 6)} \n",
    "    and after conversion back to the standard basis it becomes \n",
    "    {threshold_vectors_in_basis[vec].n(digits = 6)}\"\"\")"
   ]
  },
  {
   "cell_type": "code",
   "execution_count": null,
   "metadata": {},
   "outputs": [],
   "source": [
    "def vector_map(vector):\n",
    "    return matrix_plot(matrix([vector]), cmap = 'Greys', vmin = 0, vmax = 256)"
   ]
  },
  {
   "cell_type": "code",
   "execution_count": null,
   "metadata": {},
   "outputs": [],
   "source": [
    "thresholds = [0,10,50,100]\n",
    "for a in range(len(threshold_vectors)):\n",
    "    print(f'''\n",
    "    With the threshold {thresholds[a]}, you see the following compression''')\n",
    "    show(vector_map(threshold_vectors_in_basis[a]))"
   ]
  },
  {
   "cell_type": "code",
   "execution_count": null,
   "metadata": {
    "scrolled": true
   },
   "outputs": [],
   "source": [
    "thresholds = [a*5 for a in range(1,21)]\n",
    "threshold_vectors = [A*(threshold_vectorizer(i,va)) for i in thresholds]\n",
    "\n",
    "for a in range(len(threshold_vectors)):\n",
    "    print(f'''\n",
    "    With the threshold {thresholds[a]}, you see the following compression''')\n",
    "    show(vector_map(threshold_vectors[a]))"
   ]
  },
  {
   "cell_type": "code",
   "execution_count": null,
   "metadata": {},
   "outputs": [],
   "source": [
    "from PIL import Image\n",
    "from numpy import asarray\n",
    "  \n",
    "  \n",
    "# load the image and convert into \n",
    "# numpy array\n",
    "img = Image.open('Hafiz.png')\n",
    "numpydata = asarray(img)\n",
    "  \n",
    "# data\n",
    "print(numpydata.shape)\n",
    "\n",
    "# Below is the way of creating Pillow \n",
    "# image from our numpyarray\n",
    "pilImage = Image.fromarray(numpydata)\n",
    "print(type(pilImage))\n",
    "  \n",
    "# Let us check  image details\n",
    "print(pilImage.mode)\n",
    "print(pilImage.size)"
   ]
  },
  {
   "cell_type": "code",
   "execution_count": null,
   "metadata": {},
   "outputs": [],
   "source": [
    "def threshold_vectorizer(threshold, vectr):\n",
    "    dummy = vector([i for i in vectr])\n",
    "    for a in range(len(dummy)):\n",
    "        if abs(dummy[a]) < threshold:\n",
    "            dummy[a] = 0\n",
    "    return dummy"
   ]
  },
  {
   "cell_type": "code",
   "execution_count": null,
   "metadata": {},
   "outputs": [],
   "source": [
    "#Creating a haar wavelet basis of size n\n",
    "\n",
    "def wavelet(n):\n",
    "    '''\n",
    "    Creates haar wavelet basis vectors of size n'''\n",
    "    vectors = []\n",
    "    for a in range(log(n,2)+1): #The different regions of 1s and -1s, which are equal to the log with base 2 of n plus 1\n",
    "        if a == 0:\n",
    "            vectors.append(vector([1]*n)) #1st vector which is always 1s\n",
    "        elif a == 1: #2nd vector which is always half 1s and half -1s\n",
    "            a = [1]*int(n/2)\n",
    "            b = [-1]*int(n/2)\n",
    "            c = a + b\n",
    "            vectors.append(vector(c))\n",
    "        else: #generalizing it out to the other bunches of vectors \n",
    "            \n",
    "            \n",
    "            current_pos = 0 #Indicates where you'll be adding the current 1,-1 pair\n",
    "            for b in range(2**(a-1)):\n",
    "                current_a = [1]*int(n/(2^(a)))\n",
    "                current_b = [-1]*int(n/(2^(a)))\n",
    "                current_c = current_a + current_b\n",
    "                \n",
    "                \n",
    "                hector = []\n",
    "                for i in range(2**(a-1)):\n",
    "                    if i == current_pos:\n",
    "                        hector += current_c\n",
    "                    else:\n",
    "                        hector += [0]*int(len(current_c))\n",
    "                current_pos +=1\n",
    "                vectors.append(vector(hector))\n",
    "    \n",
    "                #This block of code makes the pair, adds it iteratively into the right position and updates the position for\n",
    "        #the next part to get added\n",
    "    return vectors     "
   ]
  },
  {
   "cell_type": "code",
   "execution_count": null,
   "metadata": {},
   "outputs": [],
   "source": [
    "import numpy as np\n",
    "from PIL import Image\n",
    "\n",
    "mario = Image.open('1.png').convert('L')\n",
    "\n",
    "mario\n",
    "image_in_greyscale = np.asarray(mario)\n",
    "n = (len(image_in_greyscale))^2\n",
    "M = matrix(wavelet(n))"
   ]
  },
  {
   "cell_type": "code",
   "execution_count": null,
   "metadata": {
    "scrolled": false
   },
   "outputs": [],
   "source": [
    "matrix_plot(image_in_greyscale)"
   ]
  },
  {
   "cell_type": "code",
   "execution_count": null,
   "metadata": {},
   "outputs": [],
   "source": [
    "def compressor(threshold,image):\n",
    "    \n",
    "    image_in_greyscale = np.asarray(image)\n",
    "    image_in_greyscale_inverted = [255 - i for i in image_in_greyscale.ravel()]\n",
    "    width = len(image_in_greyscale)\n",
    "    n = (width)^2\n",
    "    haar = matrix(wavelet(n))\n",
    "\n",
    "    Mt = haar*threshold_vectorizer(threshold, M.inverse() * vector(image_in_greyscale_inverted))\n",
    "\n",
    "    qwer = matrix(Mt)\n",
    "    qwer32 = np.reshape(qwer, (width,width))\n",
    "\n",
    "    return qwer32"
   ]
  },
  {
   "cell_type": "code",
   "execution_count": null,
   "metadata": {
    "scrolled": false
   },
   "outputs": [],
   "source": [
    "thresholds = [0,5,15,35]\n",
    "image_names = ['oogway','linear','logo']\n",
    "\n",
    "\n",
    "oogway = Image.open('oogway.png').convert('L')\n",
    "linear = Image.open('linear.png').convert('L')\n",
    "logo = Image.open('logo.png').convert('L')\n",
    "\n",
    "images = [oogway,linear,logo]\n",
    "\n",
    "for image in range(len(images)):\n",
    "    for threshold in range(len(thresholds)):\n",
    "        print(f\"With a threshold of {thresholds[threshold]}, the compressed image for {image_names[image]} looks like \")\n",
    "        compressed = compressor(thresholds[threshold],images[image])\n",
    "        show(matrix_plot(compressed))\n",
    "        \n",
    "        inverted_compressed = [255 - i for i in compressed.ravel()]\n",
    "        inverted_matrix = np.reshape(inverted_compressed, (32,32))\n",
    "        \n",
    "        image1 = Image.fromarray(inverted_matrix.astype(np.uint8))\n",
    "        image1 = image1.convert('RGB')\n",
    "        image1.save(f\"{image_names[image]}{thresholds[threshold]}.png\")"
   ]
  },
  {
   "cell_type": "code",
   "execution_count": null,
   "metadata": {},
   "outputs": [],
   "source": [
    "image = Image.fromarray(qwer32)\n",
    "image = image.convert('RGB')\n",
    "image.save('wow.png')"
   ]
  },
  {
   "cell_type": "code",
   "execution_count": null,
   "metadata": {},
   "outputs": [],
   "source": [
    "qwer32.shape"
   ]
  },
  {
   "cell_type": "code",
   "execution_count": 7,
   "metadata": {},
   "outputs": [
    {
     "data": {
      "text/plain": [
       "(\n",
       "            [-1  1  0  0]\n",
       "            [-1  0  1  0]\n",
       "            [-1  0  0  1]\n",
       "[-1  1  0]  [ 0 -1  1  0]\n",
       "[-1  0  1]  [ 0 -1  0  1]\n",
       "[ 0  1 -1], [ 0  0 -1  1]\n",
       ")"
      ]
     },
     "execution_count": 7,
     "metadata": {},
     "output_type": "execute_result"
    }
   ],
   "source": [
    "MR = matrix([[-1,0,0,1],[1,-1,0,0],[0,1,-1,0],[0,0,1,-1]]).transpose()\n",
    "MC = matrix([[-1,-1,0],[1,0,1],[0,1,-1]]).transpose()\n",
    "MK = matrix([[-1,-1,-1,0,0,0],[1,0,0,-1,-1,0],[0,1,0,1,0,-1],[0,0,1,0,1,1]]).transpose()\n",
    "\n",
    "MC,MK"
   ]
  },
  {
   "cell_type": "code",
   "execution_count": 12,
   "metadata": {},
   "outputs": [
    {
     "data": {
      "text/plain": [
       "(-x1 + x2, -x2 + x3, -x3 + x4, x1 - x4)"
      ]
     },
     "execution_count": 12,
     "metadata": {},
     "output_type": "execute_result"
    }
   ],
   "source": [
    "var('x1,x2,x3,x4')\n",
    "\n",
    "MR*vector([x1,x2,x3,x4])"
   ]
  },
  {
   "cell_type": "code",
   "execution_count": 13,
   "metadata": {},
   "outputs": [
    {
     "data": {
      "text/plain": [
       "(-x1 + x2, -x1 + x3, x2 - x3)"
      ]
     },
     "execution_count": 13,
     "metadata": {},
     "output_type": "execute_result"
    }
   ],
   "source": [
    "MC*vector([x1,x2,x3])"
   ]
  },
  {
   "cell_type": "code",
   "execution_count": 14,
   "metadata": {},
   "outputs": [
    {
     "data": {
      "text/plain": [
       "(-x1 + x2, -x1 + x3, -x1 + x4, -x2 + x3, -x2 + x4, -x3 + x4)"
      ]
     },
     "execution_count": 14,
     "metadata": {},
     "output_type": "execute_result"
    }
   ],
   "source": [
    "MK*vector([x1,x2,x3,x4])"
   ]
  },
  {
   "cell_type": "code",
   "execution_count": 15,
   "metadata": {},
   "outputs": [
    {
     "data": {
      "text/plain": [
       "[ 1  0 -1]\n",
       "[ 0  1 -1]\n",
       "[ 0  0  0]"
      ]
     },
     "execution_count": 15,
     "metadata": {},
     "output_type": "execute_result"
    }
   ],
   "source": [
    "MC.rref()"
   ]
  },
  {
   "cell_type": "code",
   "execution_count": 16,
   "metadata": {},
   "outputs": [
    {
     "data": {
      "text/plain": [
       "(-y1 + y4, y1 - y2, y2 - y3, y3 - y4)"
      ]
     },
     "execution_count": 16,
     "metadata": {},
     "output_type": "execute_result"
    }
   ],
   "source": [
    "var('y1,y2,y3,y4,y5,y6')\n",
    "\n",
    "MR.transpose()*vector([y1,y2,y3,y4])"
   ]
  },
  {
   "cell_type": "code",
   "execution_count": 17,
   "metadata": {},
   "outputs": [
    {
     "data": {
      "text/plain": [
       "(-y1 - y2, y1 + y3, y2 - y3)"
      ]
     },
     "execution_count": 17,
     "metadata": {},
     "output_type": "execute_result"
    }
   ],
   "source": [
    "MC.transpose()*vector([y1,y2,y3])"
   ]
  },
  {
   "cell_type": "code",
   "execution_count": 19,
   "metadata": {},
   "outputs": [],
   "source": [
    "MKflows = MK.transpose()*vector([y1,y2,y3,y4,y5,y6])"
   ]
  },
  {
   "cell_type": "code",
   "execution_count": 29,
   "metadata": {
    "scrolled": true
   },
   "outputs": [
    {
     "data": {
      "text/plain": [
       "[[y1 == 10, y2 == -9, y6 == 1]]"
      ]
     },
     "execution_count": 29,
     "metadata": {},
     "output_type": "execute_result"
    }
   ],
   "source": [
    "var('y1,y2,y6')\n",
    "\n",
    "solve([-y1-y2+1 == 0, y1 - 10 == 0, y2 + 10 - y6 == 0, -1 + y6 == 0],y1,y2,y6)"
   ]
  },
  {
   "cell_type": "code",
   "execution_count": 23,
   "metadata": {},
   "outputs": [
    {
     "data": {
      "text/plain": [
       "(-y1 - y2 - y3, y1 - y4 - y5, y2 + y4 - y6, y3 + y5 + y6)"
      ]
     },
     "execution_count": 23,
     "metadata": {},
     "output_type": "execute_result"
    }
   ],
   "source": [
    "MKflows"
   ]
  },
  {
   "cell_type": "code",
   "execution_count": 31,
   "metadata": {},
   "outputs": [],
   "source": [
    "Md = matrix([[-1,1,0,0,0,0,0],[0,-1,1,0,0,0,0],[0,0,-1,1,0,0,0],[0,0,0,1,-1,0,0],[0,0,0,0,1,-1,0],\\\n",
    "           [0,0,-1,0,0,1,0],[0,0,1,0,0,0,-1],[1,0,0,0,0,0,-1]])"
   ]
  },
  {
   "cell_type": "code",
   "execution_count": 33,
   "metadata": {},
   "outputs": [
    {
     "data": {
      "text/plain": [
       "(\n",
       "[-1  1  0  0  0  0  0]  [ 1  0  0  0  0  0 -1]\n",
       "[ 0 -1  1  0  0  0  0]  [ 0  1  0  0  0  0 -1]\n",
       "[ 0  0 -1  1  0  0  0]  [ 0  0  1  0  0  0 -1]\n",
       "[ 0  0  0  1 -1  0  0]  [ 0  0  0  1  0  0 -1]\n",
       "[ 0  0  0  0  1 -1  0]  [ 0  0  0  0  1  0 -1]\n",
       "[ 0  0 -1  0  0  1  0]  [ 0  0  0  0  0  1 -1]\n",
       "[ 0  0  1  0  0  0 -1]  [ 0  0  0  0  0  0  0]\n",
       "[ 1  0  0  0  0  0 -1], [ 0  0  0  0  0  0  0]\n",
       ")"
      ]
     },
     "execution_count": 33,
     "metadata": {},
     "output_type": "execute_result"
    }
   ],
   "source": [
    "Md, Md.rref()"
   ]
  },
  {
   "cell_type": "code",
   "execution_count": null,
   "metadata": {},
   "outputs": [],
   "source": []
  }
 ],
 "metadata": {
  "kernelspec": {
   "display_name": "SageMath 9.2",
   "language": "sage",
   "name": "sagemath"
  },
  "language_info": {
   "codemirror_mode": {
    "name": "ipython",
    "version": 3
   },
   "file_extension": ".py",
   "mimetype": "text/x-python",
   "name": "python",
   "nbconvert_exporter": "python",
   "pygments_lexer": "ipython3",
   "version": "3.7.7"
  }
 },
 "nbformat": 4,
 "nbformat_minor": 4
}
